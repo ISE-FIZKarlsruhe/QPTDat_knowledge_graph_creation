{
 "cells": [
  {
   "cell_type": "markdown",
   "metadata": {
    "colab": {
     "base_uri": "https://localhost:8080/"
    },
    "id": "RaClpkEQb1A8",
    "outputId": "786b5d9b-41fe-4e8a-fb51-1ec056d63121"
   },
   "source": [
    "# Exploring the QPTDat ontologies\n"
   ]
  },
  {
   "cell_type": "code",
   "execution_count": 1,
   "metadata": {
    "id": "N7AsrflmbYm0"
   },
   "outputs": [],
   "source": [
    "import rdflib\n",
    "import owlrl\n",
    "\n",
    "#from rdflib import Graph, Literal, URIRef, BNode\n",
    "#from rdflib.term import Identifier\n",
    "#from rdflib.collection import Collection\n",
    "#from rdflib.namespace import RDF, RDFS, SKOS, XSD, OWL\n",
    "#import rdflib.plugins.sparql.update\n",
    "#import owlrl.RDFSClosure\n"
   ]
  },
  {
   "cell_type": "markdown",
   "metadata": {
    "id": "zRRRxSR7HXtT"
   },
   "source": [
    "# Load the ontologies from server"
   ]
  },
  {
   "cell_type": "code",
   "execution_count": 2,
   "metadata": {
    "id": "I3w80XfEHbjh"
   },
   "outputs": [],
   "source": [
    "Core_Ontology_URL=\"http://qptdat.plasma-mds.org/raw/core.ttl\" \n",
    "Source_Ontology_URL=\"http://qptdat.plasma-mds.org/raw/source.ttl\""
   ]
  },
  {
   "cell_type": "code",
   "execution_count": 4,
   "metadata": {
    "colab": {
     "base_uri": "https://localhost:8080/"
    },
    "id": "q82LeTunIlZA",
    "outputId": "557a2602-8b20-4152-8826-9748295a2fed"
   },
   "outputs": [
    {
     "name": "stdout",
     "output_type": "stream",
     "text": [
      "1609\n"
     ]
    }
   ],
   "source": [
    "g = rdflib.Graph()\n",
    "g.parse(Core_Ontology_URL)\n",
    "g.parse(Source_Ontology_URL)\n",
    "\n",
    "g.bind(\"qpt\", rdflib.Namespace(\"http://qptdat.plasma-mds.org/ontology/\"))\n",
    "g.bind(\"qpt_source\", rdflib.Namespace(\"http://qptdat.plasma-mds.org/source_ontology/\"))\n",
    "print(f\"# triples :{len(g)}\")"
   ]
  },
  {
   "cell_type": "markdown",
   "metadata": {},
   "source": [
    "Let's see which name spaces are already defined. These are important for SPARQL queries. "
   ]
  },
  {
   "cell_type": "code",
   "execution_count": 5,
   "metadata": {
    "colab": {
     "base_uri": "https://localhost:8080/"
    },
    "id": "zhh3xHbxT8yc",
    "outputId": "8b0edfc8-65d4-47fc-cd44-1ecdcef55fe5"
   },
   "outputs": [
    {
     "name": "stdout",
     "output_type": "stream",
     "text": [
      "owl http://www.w3.org/2002/07/owl#\n",
      "rdf http://www.w3.org/1999/02/22-rdf-syntax-ns#\n",
      "rdfs http://www.w3.org/2000/01/rdf-schema#\n",
      "xsd http://www.w3.org/2001/XMLSchema#\n",
      "xml http://www.w3.org/XML/1998/namespace\n",
      "dc http://purl.org/dc/elements/1.1/\n",
      "obo http://purl.obolibrary.org/obo/\n",
      "foaf http://xmlns.com/foaf/0.1/\n",
      "obda https://w3id.org/obda/vocabulary#\n",
      "orkg http://orkg.org/core#\n",
      "qpkg http://qptdat.plasma-mds.org/resource/\n",
      "p-plan http://purl.org/net/p-plan#\n",
      "dcterms http://purl.org/dc/terms/\n",
      "datacite http://purl.org/spar/datacite/\n",
      "wikibase http://wikiba.se/ontology#\n",
      "qpt http://qptdat.plasma-mds.org/ontology/\n",
      "qpt_source http://qptdat.plasma-mds.org/source_ontology/\n"
     ]
    }
   ],
   "source": [
    "for prefix, namespace in g.namespaces():\n",
    "  print(prefix, namespace)"
   ]
  },
  {
   "cell_type": "markdown",
   "metadata": {
    "id": "j4PPJwUPwpam"
   },
   "source": [
    "Now let's dive into the ontology and count the classes, properties, etc. \n"
   ]
  },
  {
   "cell_type": "code",
   "execution_count": 31,
   "metadata": {
    "colab": {
     "base_uri": "https://localhost:8080/"
    },
    "id": "JMPdNzeVKyfZ",
    "outputId": "b7164751-e82d-4659-f599-d02b3cf1b3fd"
   },
   "outputs": [
    {
     "name": "stdout",
     "output_type": "stream",
     "text": [
      "classes 199\n",
      "properties 57\n",
      "\tobject properties 47\n",
      "\tdatatype properties 10\n"
     ]
    }
   ],
   "source": [
    "query = \"\"\"\n",
    "SELECT (COUNT(DISTINCT ?class) AS ?class_count) (COUNT(DISTINCT ?object_property) AS ?object_property_count) \n",
    "        (COUNT(DISTINCT ?datatype_property) AS ?datatype_property_count) \n",
    "WHERE { \n",
    "    ?class a owl:Class .\n",
    "    ?object_property a owl:ObjectProperty .\n",
    "    ?datatype_property a owl:DatatypeProperty .\n",
    "}\n",
    "\"\"\"\n",
    "qres = g.query(query)\n",
    "for row in qres:\n",
    "    print(f\"classes {row.class_count}\")\n",
    "    print(f\"properties {row.object_property_count + row.datatype_property_count}\" \n",
    "          + f\"\\n\\tobject properties {row.object_property_count}\"\n",
    "          + f\"\\n\\tdatatype properties {row.datatype_property_count}\")"
   ]
  },
  {
   "cell_type": "code",
   "execution_count": 30,
   "metadata": {
    "colab": {
     "base_uri": "https://localhost:8080/"
    },
    "id": "JMPdNzeVKyfZ",
    "outputId": "b7164751-e82d-4659-f599-d02b3cf1b3fd"
   },
   "outputs": [
    {
     "name": "stdout",
     "output_type": "stream",
     "text": [
      "named individuals 34\n"
     ]
    }
   ],
   "source": [
    "query = \"\"\"\n",
    "SELECT (COUNT(DISTINCT ?named_individual) AS ?named_individual_count)\n",
    "WHERE { \n",
    "    ?named_individual a owl:NamedIndividual .\n",
    "}\n",
    "\"\"\"\n",
    "qres = g.query(query)\n",
    "for row in qres:\n",
    "    print(f\"named individuals {row.named_individual_count}\")"
   ]
  },
  {
   "cell_type": "markdown",
   "metadata": {},
   "source": [
    "Have a look into specic classes and related properties"
   ]
  },
  {
   "cell_type": "code",
   "execution_count": 11,
   "metadata": {},
   "outputs": [
    {
     "name": "stdout",
     "output_type": "stream",
     "text": [
      "Device: http://qptdat.plasma-mds.org/ontology/AdjustedDevice\n",
      "Device: http://qptdat.plasma-mds.org/ontology/DiagnosticDevice\n",
      "Device: http://qptdat.plasma-mds.org/ontology/Source\n"
     ]
    }
   ],
   "source": [
    "query = \"\"\"\n",
    "SELECT ?s \n",
    "WHERE { \n",
    "    ?s rdfs:subClassOf qpt:Device .\n",
    "}\n",
    "\"\"\"\n",
    "qres = g.query(query)\n",
    "for row in qres:\n",
    "    print(f\"Device: {row.s}\")"
   ]
  },
  {
   "cell_type": "markdown",
   "metadata": {
    "id": "hv3Wo51cxSH0"
   },
   "source": [
    "with reasoner"
   ]
  },
  {
   "cell_type": "code",
   "execution_count": 12,
   "metadata": {
    "colab": {
     "base_uri": "https://localhost:8080/"
    },
    "id": "vILG35ngwMag",
    "outputId": "1f089372-c62b-49ec-f7a8-4b6afb9d0d5c"
   },
   "outputs": [
    {
     "name": "stdout",
     "output_type": "stream",
     "text": [
      "1609\n",
      "7537\n"
     ]
    }
   ],
   "source": [
    "print (len(g))\n",
    "rdfs = owlrl.CombinedClosure.RDFS_OWLRL_Semantics(g, False, False, False)\n",
    "rdfs.closure()\n",
    "rdfs.flush_stored_triples()\n",
    "print (len(g))"
   ]
  },
  {
   "cell_type": "markdown",
   "metadata": {
    "id": "7GDDHC2jxbHN"
   },
   "source": [
    "results"
   ]
  },
  {
   "cell_type": "code",
   "execution_count": 13,
   "metadata": {
    "colab": {
     "base_uri": "https://localhost:8080/"
    },
    "id": "bGX875VDwS3h",
    "outputId": "e5353210-4818-44cf-ad1a-b093536dd6af"
   },
   "outputs": [
    {
     "name": "stdout",
     "output_type": "stream",
     "text": [
      "Device: http://qptdat.plasma-mds.org/ontology/AdjustedDevice\n",
      "Device: http://qptdat.plasma-mds.org/ontology/DiagnosticDevice\n",
      "Device: http://qptdat.plasma-mds.org/ontology/Source\n",
      "Device: http://qptdat.plasma-mds.org/ontology/Profilometer\n",
      "Device: http://www.w3.org/2002/07/owl#Nothing\n",
      "Device: http://qptdat.plasma-mds.org/ontology/Detector\n",
      "Device: http://qptdat.plasma-mds.org/ontology/Oscilloscope\n",
      "Device: http://qptdat.plasma-mds.org/source_ontology/miller_auto_axcess_450\n",
      "Device: http://qptdat.plasma-mds.org/ontology/Voltmeter\n",
      "Device: http://qptdat.plasma-mds.org/ontology/MultipoleResonanceProbe\n",
      "Device: http://qptdat.plasma-mds.org/ontology/LangmuirProbe\n",
      "Device: http://qptdat.plasma-mds.org/source_ontology/minimip\n",
      "Device: http://qptdat.plasma-mds.org/ontology/PlasmaJet\n",
      "Device: http://qptdat.plasma-mds.org/ontology/DBD\n",
      "Device: http://qptdat.plasma-mds.org/ontology/TransientRecorder\n",
      "Device: http://qptdat.plasma-mds.org/ontology/AtomProbeTomographe\n",
      "Device: http://qptdat.plasma-mds.org/ontology/Spectroscope\n",
      "Device: http://qptdat.plasma-mds.org/ontology/PlasmaTorch\n",
      "Device: http://qptdat.plasma-mds.org/ontology/Galvanometer\n",
      "Device: http://qptdat.plasma-mds.org/ontology/Device\n",
      "Device: http://qptdat.plasma-mds.org/ontology/Thermometer\n",
      "Device: http://qptdat.plasma-mds.org/ontology/PlasmaPen\n",
      "Device: http://qptdat.plasma-mds.org/ontology/Ammeter\n",
      "Device: http://qptdat.plasma-mds.org/ontology/Helix\n",
      "Device: http://qptdat.plasma-mds.org/ontology/VoltageProbe\n",
      "Device: http://qptdat.plasma-mds.org/source_ontology/aura_wave_sairem\n",
      "Device: http://qptdat.plasma-mds.org/ontology/Microscope\n",
      "Device: http://qptdat.plasma-mds.org/ontology/Ellipsometer\n",
      "Device: http://qptdat.plasma-mds.org/ontology/Laser\n",
      "Device: http://qptdat.plasma-mds.org/ontology/CurrentProbe\n",
      "Device: http://qptdat.plasma-mds.org/ontology/CCP\n",
      "Device: http://qptdat.plasma-mds.org/ontology/ScanningDriftTubeApparatus\n",
      "Device: http://qptdat.plasma-mds.org/ontology/Camera\n",
      "Device: http://qptdat.plasma-mds.org/ontology/RogowskiCoil\n",
      "Device: http://qptdat.plasma-mds.org/ontology/ShuntResistor\n",
      "Device: http://qptdat.plasma-mds.org/ontology/MassSpectrometer\n",
      "Device: http://qptdat.plasma-mds.org/source_ontology/ion_wind_dbd\n",
      "Device: http://qptdat.plasma-mds.org/source_ontology/venturi_dbd_vdbd\n",
      "Device: http://qptdat.plasma-mds.org/source_ontology/non_thermal_atmospheric_pressure_plasma_jet_ntappj\n",
      "Device: http://qptdat.plasma-mds.org/ontology/ScanningElectronMicroscope\n",
      "Device: http://qptdat.plasma-mds.org/ontology/OpticalEmissionSpectrograph\n",
      "Device: http://qptdat.plasma-mds.org/ontology/AtomProbeTomography\n",
      "Device: http://qptdat.plasma-mds.org/source_ontology/kinpen_ind\n",
      "Device: http://qptdat.plasma-mds.org/ontology/HighSpeedCamera\n",
      "Device: http://qptdat.plasma-mds.org/ontology/RamanSpectroscope\n",
      "Device: http://qptdat.plasma-mds.org/source_ontology/plasmaskop_jet\n",
      "Device: http://qptdat.plasma-mds.org/ontology/VoltageDifferentialProbe\n",
      "Device: http://qptdat.plasma-mds.org/source_ontology/biofilm_jet\n",
      "Device: http://qptdat.plasma-mds.org/ontology/FiberOpticThermometer\n",
      "Device: http://qptdat.plasma-mds.org/source_ontology/hairline_plasma_jet_hairlineplasma\n",
      "Device: http://qptdat.plasma-mds.org/ontology/AtomicForceMicroscope\n",
      "Device: http://qptdat.plasma-mds.org/ontology/FourierTransformInfraredSpectrograph\n",
      "Device: http://qptdat.plasma-mds.org/source_ontology/helixjet\n",
      "Device: http://qptdat.plasma-mds.org/ontology/ScanningTunnelingMicroscope\n",
      "Device: http://qptdat.plasma-mds.org/ontology/Pyrometer\n",
      "Device: http://qptdat.plasma-mds.org/ontology/EnergyDispersiveXraySpectroscope\n",
      "Device: http://qptdat.plasma-mds.org/ontology/ThermographicCamera\n"
     ]
    }
   ],
   "source": [
    "qres = g.query(query)\n",
    "for row in qres:\n",
    "    print(f\"Device: {row.s}\")"
   ]
  },
  {
   "cell_type": "markdown",
   "metadata": {
    "id": "XYRLEznuxrOk"
   },
   "source": [
    "So, wrapping things up until now ... \n",
    "There are two examples for modeling the cooking process.\n",
    "We can query for Eggs in each of the examples. With reasoning active, we can also collect instances of sublcasses of Egg-classes. \n",
    "\n",
    "We now want to query for eggs in both examples, but with only one query. \n",
    "This will not work, because there is no mapping between the classes.\n",
    "\n",
    "To include a mapping, we can load the PMDCO2 ontology. "
   ]
  },
  {
   "cell_type": "code",
   "execution_count": null,
   "metadata": {
    "colab": {
     "base_uri": "https://localhost:8080/"
    },
    "id": "wImdc2doCFQw",
    "outputId": "c4e6a7fd-e307-457c-9af7-c3f79ecdc826"
   },
   "outputs": [
    {
     "data": {
      "text/plain": [
       "<Graph identifier=Nb4920e7ca3594c0d8649b54eb6b6deef (<class 'rdflib.graph.Graph'>)>"
      ]
     },
     "execution_count": 12,
     "metadata": {},
     "output_type": "execute_result"
    }
   ],
   "source": [
    "#Mapping_URL=\"https://demo.fiz-karlsruhe.de/pmd/staticResources/data/pmdco_bfo2-mod.ttl\"\n",
    "Mapping_URL=\"https://demo.fiz-karlsruhe.de/pmd/staticResources/data/pmdco_bfo2-mod2.ttl\"\n",
    "g.parse(Mapping_URL)"
   ]
  },
  {
   "cell_type": "markdown",
   "metadata": {
    "id": "KrWcBuegRBld"
   },
   "source": [
    "We also have to include a part of the CCO ontology."
   ]
  },
  {
   "cell_type": "code",
   "execution_count": null,
   "metadata": {
    "colab": {
     "base_uri": "https://localhost:8080/"
    },
    "id": "ZJWa2CFcRAuG",
    "outputId": "8617d566-d08a-43cb-80e6-c6a9d027bb7d"
   },
   "outputs": [
    {
     "data": {
      "text/plain": [
       "<Graph identifier=Nb4920e7ca3594c0d8649b54eb6b6deef (<class 'rdflib.graph.Graph'>)>"
      ]
     },
     "execution_count": 13,
     "metadata": {},
     "output_type": "execute_result"
    }
   ],
   "source": [
    "CCO_URL=\"https://raw.githubusercontent.com/CommonCoreOntology/CommonCoreOntologies/master/ArtifactOntology.ttl\"\n",
    "g.parse(CCO_URL, format='ttl')"
   ]
  },
  {
   "cell_type": "code",
   "execution_count": null,
   "metadata": {
    "colab": {
     "base_uri": "https://localhost:8080/"
    },
    "id": "4NPBP7imUibR",
    "outputId": "a3ccaef2-7e38-4cb2-95f0-d844499eabac"
   },
   "outputs": [
    {
     "data": {
      "text/plain": [
       "<Graph identifier=Nb4920e7ca3594c0d8649b54eb6b6deef (<class 'rdflib.graph.Graph'>)>"
      ]
     },
     "execution_count": 14,
     "metadata": {},
     "output_type": "execute_result"
    }
   ],
   "source": [
    "BFO_URL=\"http://purl.obolibrary.org/obo/bfo/2020/bfo.owl\"\n",
    "g.parse(BFO_URL, format='xml')"
   ]
  },
  {
   "cell_type": "markdown",
   "metadata": {
    "id": "hZofXgr7Rj-Z"
   },
   "source": [
    "Now lets do the reasoning (takes one or two minutes)"
   ]
  },
  {
   "cell_type": "code",
   "execution_count": null,
   "metadata": {
    "colab": {
     "base_uri": "https://localhost:8080/"
    },
    "id": "T7sgprdlC-61",
    "outputId": "c1ebb856-5b42-407b-ec30-84667b22ddee"
   },
   "outputs": [
    {
     "name": "stdout",
     "output_type": "stream",
     "text": [
      "6850\n",
      "43032\n"
     ]
    }
   ],
   "source": [
    "print (len(g))\n",
    "rdfs = owlrl.CombinedClosure.RDFS_OWLRL_Semantics(g, False, False, False)\n",
    "rdfs.closure()\n",
    "rdfs.flush_stored_triples()\n",
    "print (len(g))"
   ]
  },
  {
   "cell_type": "markdown",
   "metadata": {
    "id": "lkDo5JwcR09M"
   },
   "source": [
    "We now query again for **provo entities**, and the result is also showing entities from the cco example (these were not explicitly modelled as provo entities)."
   ]
  },
  {
   "cell_type": "code",
   "execution_count": null,
   "metadata": {
    "colab": {
     "base_uri": "https://localhost:8080/"
    },
    "id": "NY1XuVRRC2b7",
    "outputId": "70beae3a-1fcb-4593-8d74-4e650128a67c"
   },
   "outputs": [
    {
     "name": "stdout",
     "output_type": "stream",
     "text": [
      "http://example.org/provo#egg1\n",
      "http://example.org/provo#cookingParams1\n",
      "http://example.org/provo#easterEgg1\n",
      "http://example.org/provo#boiledEgg1\n",
      "http://example.org/ccobfo#Egg1\n",
      "http://example.org/ccobfo#informationBearingEntity1\n",
      "http://example.org/ccobfo#portionOfWater1\n",
      "http://example.org/ccobfo#informationBearingEntity3\n",
      "http://example.org/ccobfo#portionOfWater2\n",
      "http://example.org/ccobfo#temperature2\n",
      "http://example.org/ccobfo#temperature1\n",
      "http://example.org/ccobfo#hardness1\n",
      "http://example.org/ccobfo#eggSizeM\n",
      "http://example.org/ccobfo#ShellColor\n",
      "http://example.org/ccobfo#TapWater\n"
     ]
    }
   ],
   "source": [
    "query = \"\"\"\n",
    "SELECT ?s \n",
    "WHERE { \n",
    "    ?s a prov:Entity\n",
    "}\n",
    "\"\"\"\n",
    "qres = g.query(query)\n",
    "for row in qres:\n",
    "    print(f\"{row.s}\")"
   ]
  },
  {
   "cell_type": "markdown",
   "metadata": {
    "id": "z3sdrNKDpcMj"
   },
   "source": [
    "Lets now add the other examples to the graph and start the reasoner again."
   ]
  },
  {
   "cell_type": "code",
   "execution_count": null,
   "metadata": {
    "colab": {
     "base_uri": "https://localhost:8080/"
    },
    "id": "3fMLKO3hNZ0z",
    "outputId": "f1ffe129-1e58-4876-c060-8ac991caf9e1"
   },
   "outputs": [
    {
     "name": "stdout",
     "output_type": "stream",
     "text": [
      "43330\n",
      "45095\n"
     ]
    }
   ],
   "source": [
    "g.parse(Egg_Ontology_EMMO_URL)\n",
    "g.parse(Egg_Ontology_PMDCO_URL)\n",
    "print (len(g))\n",
    "rdfs = owlrl.CombinedClosure.RDFS_OWLRL_Semantics(g, False, False, False)\n",
    "rdfs.closure()\n",
    "rdfs.flush_stored_triples()\n",
    "print (len(g))"
   ]
  },
  {
   "cell_type": "markdown",
   "metadata": {
    "id": "_2GH05dIpcPB"
   },
   "source": [
    "Again the list of **provo entities**. Now with even more items."
   ]
  },
  {
   "cell_type": "code",
   "execution_count": null,
   "metadata": {
    "colab": {
     "base_uri": "https://localhost:8080/"
    },
    "id": "RVKcnPtINkVP",
    "outputId": "6a1ad5e9-64ed-4a3c-9541-94ccaefcd38a"
   },
   "outputs": [
    {
     "name": "stdout",
     "output_type": "stream",
     "text": [
      "http://example.org/provo#egg1\n",
      "http://example.org/provo#cookingParams1\n",
      "http://example.org/provo#easterEgg1\n",
      "http://example.org/provo#boiledEgg1\n",
      "http://example.org/ccobfo#Egg1\n",
      "http://example.org/ccobfo#informationBearingEntity1\n",
      "http://example.org/ccobfo#portionOfWater1\n",
      "http://example.org/ccobfo#informationBearingEntity3\n",
      "http://example.org/ccobfo#portionOfWater2\n",
      "http://example.org/ccobfo#temperature2\n",
      "http://example.org/ccobfo#temperature1\n",
      "http://example.org/ccobfo#hardness1\n",
      "http://example.org/ccobfo#eggSizeM\n",
      "http://example.org/ccobfo#ShellColor\n",
      "http://example.org/ccobfo#TapWater\n",
      "http://example.org/pmd#2e7012fc14764843a96b6e231fb67c53\n",
      "http://example.org/pmd#515c392524f74d14bfd4e24c64141095\n",
      "http://example.org/pmd#boiledEgg1\n",
      "http://example.org/pmd#egg1\n",
      "http://example.org/pmd#easterEgg1\n"
     ]
    }
   ],
   "source": [
    "query = \"\"\"\n",
    "SELECT ?s \n",
    "WHERE { \n",
    "    ?s a prov:Entity\n",
    "}\n",
    "\"\"\"\n",
    "qres = g.query(query)\n",
    "for row in qres:\n",
    "    print(f\"{row.s}\")"
   ]
  },
  {
   "cell_type": "markdown",
   "metadata": {
    "id": "quDnQB9fpcRB"
   },
   "source": [
    "Lets now show all **entities** and their **activities**!\n",
    "\n",
    "The result comprises items from all examples."
   ]
  },
  {
   "cell_type": "code",
   "execution_count": null,
   "metadata": {
    "colab": {
     "base_uri": "https://localhost:8080/"
    },
    "id": "rDAI2JH3NyK-",
    "outputId": "0114c341-68b7-4a3f-c423-2ede89534184"
   },
   "outputs": [
    {
     "name": "stdout",
     "output_type": "stream",
     "text": [
      "http://example.org/provo#boiledEgg1 http://www.w3.org/ns/prov#wasGeneratedBy http://example.org/provo#meCookingAnEgg1\n",
      "http://example.org/provo#easterEgg1 http://www.w3.org/ns/prov#wasGeneratedBy http://example.org/provo#mePaintingAnEgg1\n",
      "http://example.org/ccobfo#Egg1 http://www.ontologyrepository.com/CommonCoreOntologies/has_input http://example.org/ccobfo#PutEggInWater\n",
      "http://example.org/ccobfo#portionOfWater1 http://www.ontologyrepository.com/CommonCoreOntologies/has_input http://example.org/ccobfo#PutEggInWater\n",
      "http://example.org/ccobfo#Egg1 http://www.ontologyrepository.com/CommonCoreOntologies/has_input http://example.org/ccobfo#RetrieveEgg\n",
      "http://example.org/ccobfo#Egg1 http://www.ontologyrepository.com/CommonCoreOntologies/has_input http://example.org/ccobfo#QuenchEgg\n",
      "http://example.org/ccobfo#portionOfWater2 http://www.ontologyrepository.com/CommonCoreOntologies/has_input http://example.org/ccobfo#QuenchEgg\n",
      "http://example.org/ccobfo#portionOfWater1 http://www.ontologyrepository.com/CommonCoreOntologies/has_input http://example.org/ccobfo#CookWater\n",
      "http://example.org/ccobfo#Egg1 http://www.ontologyrepository.com/CommonCoreOntologies/has_input http://example.org/ccobfo#CookEgg\n",
      "http://example.org/pmd#boiledEgg1 http://material-digital.de/pmdco#hasInputObject http://example.org/pmd#mePaintingAnEgg1\n"
     ]
    }
   ],
   "source": [
    "query = \"\"\"\n",
    "SELECT ?e ?p ?a \n",
    "WHERE { \n",
    "    ?e a prov:Entity .\n",
    "    ?a a prov:Activity .\n",
    "    ?e ?p ?a \n",
    "}\n",
    "\"\"\"\n",
    "qres = g.query(query)\n",
    "for row in qres:\n",
    "    print(f\"{row.e}\", f\"{row.p}\", f\"{row.a}\")"
   ]
  },
  {
   "cell_type": "markdown",
   "metadata": {
    "id": "g3rDVGkapcTV"
   },
   "source": [
    "We are getting the same results, if we qeury for the **BFO process** (BFO_0000015) instead of **provo activity**"
   ]
  },
  {
   "cell_type": "code",
   "execution_count": null,
   "metadata": {
    "colab": {
     "base_uri": "https://localhost:8080/"
    },
    "id": "rYjdb6zRPD-f",
    "outputId": "6476f2b9-b37f-4af8-8b20-3008bded58d4"
   },
   "outputs": [
    {
     "name": "stdout",
     "output_type": "stream",
     "text": [
      "http://example.org/ccobfo#Egg1 http://www.ontologyrepository.com/CommonCoreOntologies/has_input http://example.org/ccobfo#QuenchEgg\n",
      "http://example.org/ccobfo#portionOfWater2 http://www.ontologyrepository.com/CommonCoreOntologies/has_input http://example.org/ccobfo#QuenchEgg\n",
      "http://example.org/ccobfo#Egg1 http://www.ontologyrepository.com/CommonCoreOntologies/has_input http://example.org/ccobfo#RetrieveEgg\n",
      "http://example.org/ccobfo#Egg1 http://www.ontologyrepository.com/CommonCoreOntologies/has_input http://example.org/ccobfo#CookEgg\n",
      "http://example.org/ccobfo#Egg1 http://www.ontologyrepository.com/CommonCoreOntologies/has_input http://example.org/ccobfo#PutEggInWater\n",
      "http://example.org/ccobfo#portionOfWater1 http://www.ontologyrepository.com/CommonCoreOntologies/has_input http://example.org/ccobfo#PutEggInWater\n",
      "http://example.org/ccobfo#portionOfWater1 http://www.ontologyrepository.com/CommonCoreOntologies/has_input http://example.org/ccobfo#CookWater\n",
      "http://example.org/provo#boiledEgg1 http://www.w3.org/ns/prov#wasGeneratedBy http://example.org/provo#meCookingAnEgg1\n",
      "http://example.org/provo#easterEgg1 http://www.w3.org/ns/prov#wasGeneratedBy http://example.org/provo#mePaintingAnEgg1\n",
      "http://example.org/pmd#boiledEgg1 http://material-digital.de/pmdco#hasInputObject http://example.org/pmd#mePaintingAnEgg1\n"
     ]
    }
   ],
   "source": [
    "query = \"\"\"\n",
    "SELECT ?e ?p ?a \n",
    "WHERE { \n",
    "    ?e a prov:Entity .\n",
    "    ?a a obo:BFO_0000015 .\n",
    "    ?e ?p ?a \n",
    "}\n",
    "\"\"\"\n",
    "qres = g.query(query)\n",
    "for row in qres:\n",
    "    print(f\"{row.e}\", f\"{row.p}\", f\"{row.a}\")"
   ]
  },
  {
   "cell_type": "markdown",
   "metadata": {
    "id": "hVNgn7cFPsEH"
   },
   "source": [
    "Its also the same, if we query for the **BFO object**, instead of **provo entity**. "
   ]
  },
  {
   "cell_type": "code",
   "execution_count": null,
   "metadata": {
    "colab": {
     "base_uri": "https://localhost:8080/"
    },
    "id": "DKsbmZ7_PzyR",
    "outputId": "5b1c98a7-16a2-451e-8fdd-50c54f560980"
   },
   "outputs": [
    {
     "name": "stdout",
     "output_type": "stream",
     "text": [
      "http://example.org/ccobfo#portionOfWater2 http://www.ontologyrepository.com/CommonCoreOntologies/has_input http://example.org/ccobfo#QuenchEgg\n",
      "http://example.org/ccobfo#Egg1 http://www.ontologyrepository.com/CommonCoreOntologies/has_input http://example.org/ccobfo#QuenchEgg\n",
      "http://example.org/ccobfo#Egg1 http://www.ontologyrepository.com/CommonCoreOntologies/has_input http://example.org/ccobfo#RetrieveEgg\n",
      "http://example.org/ccobfo#Egg1 http://www.ontologyrepository.com/CommonCoreOntologies/has_input http://example.org/ccobfo#CookEgg\n",
      "http://example.org/ccobfo#portionOfWater1 http://www.ontologyrepository.com/CommonCoreOntologies/has_input http://example.org/ccobfo#PutEggInWater\n",
      "http://example.org/ccobfo#Egg1 http://www.ontologyrepository.com/CommonCoreOntologies/has_input http://example.org/ccobfo#PutEggInWater\n",
      "http://example.org/ccobfo#portionOfWater1 http://www.ontologyrepository.com/CommonCoreOntologies/has_input http://example.org/ccobfo#CookWater\n",
      "http://example.org/provo#boiledEgg1 http://www.w3.org/ns/prov#wasGeneratedBy http://example.org/provo#meCookingAnEgg1\n",
      "http://example.org/provo#easterEgg1 http://www.w3.org/ns/prov#wasGeneratedBy http://example.org/provo#mePaintingAnEgg1\n",
      "http://example.org/pmd#boiledEgg1 http://material-digital.de/pmdco#hasInputObject http://example.org/pmd#mePaintingAnEgg1\n"
     ]
    }
   ],
   "source": [
    "query = \"\"\"\n",
    "SELECT ?e ?p ?a \n",
    "WHERE { \n",
    "    ?e a obo:BFO_0000030 .\n",
    "    ?a a obo:BFO_0000015 .\n",
    "    ?e ?p ?a \n",
    "}\n",
    "\"\"\"\n",
    "qres = g.query(query)\n",
    "for row in qres:\n",
    "    print(f\"{row.e}\", f\"{row.p}\", f\"{row.a}\")"
   ]
  },
  {
   "cell_type": "code",
   "execution_count": null,
   "metadata": {
    "colab": {
     "base_uri": "https://localhost:8080/"
    },
    "id": "cWWIwRGE2qSr",
    "outputId": "93e95b5a-512f-4bfb-b772-942cbc2d7228"
   },
   "outputs": [
    {
     "name": "stdout",
     "output_type": "stream",
     "text": [
      "rdf http://www.w3.org/1999/02/22-rdf-syntax-ns#\n",
      "rdfs http://www.w3.org/2000/01/rdf-schema#\n",
      "xsd http://www.w3.org/2001/XMLSchema#\n",
      "xml http://www.w3.org/XML/1998/namespace\n",
      "dc http://purl.org/dc/elements/1.1/\n",
      "cco http://www.ontologyrepository.com/CommonCoreOntologies/\n",
      "obo http://purl.obolibrary.org/obo/\n",
      "ccobfo_egg http://example.org/ccobfo#\n",
      "provo_egg http://example.org/provo#\n",
      "prov http://www.w3.org/ns/prov#\n",
      "err http://www.daml.org/2002/03/agents/agent-ont#\n",
      " https://material-digital.de/pmdco/\n",
      "default1 http://www.ontologyrepository.com/CommonCoreOntologies/Mid/ArtifactOntology#\n",
      "skos http://www.w3.org/2004/02/skos/core#\n",
      "emmo_egg http://example.org/emmo#\n",
      "owl http://www.w3.org/2002/07/owl#\n",
      "pmdco http://material-digital.de/pmdco#\n",
      "wikibase http://wikiba.se/ontology#\n",
      "pmdao_egg http://example.org/pmd#\n"
     ]
    }
   ],
   "source": [
    "for prefix, namespace in g.namespaces():\n",
    "  print(prefix, namespace)"
   ]
  },
  {
   "cell_type": "code",
   "execution_count": null,
   "metadata": {
    "colab": {
     "base_uri": "https://localhost:8080/"
    },
    "id": "H6-Yjp7gyWoG",
    "outputId": "9bedad38-d202-4062-d967-2b6f47ecd934"
   },
   "outputs": [
    {
     "name": "stdout",
     "output_type": "stream",
     "text": [
      "http://example.org/ccobfo#ordinalMeasurementInformationContentEntity1\n",
      "http://example.org/ccobfo#hardnessGoal\n",
      "http://example.org/ccobfo#QuenchWaterTempSpec\n",
      "http://www.ontologyrepository.com/CommonCoreOntologies/MinuteMeasurementUnit\n",
      "http://example.org/ccobfo#intervalMeasurementInformationContentEntity1\n",
      "http://example.org/ccobfo#eggSizeInitialm\n",
      "http://example.org/ccobfo#PotWaterTempSpec\n",
      "http://example.org/ccobfo#eggCookingPlan\n",
      "http://example.org/ccobfo#eggCoockingTime1\n",
      "http://www.ontologyrepository.com/CommonCoreOntologies/DegreeCelsiusMeasurementUnit\n",
      "http://example.org/ccobfo#eggCookingPlanObjectiv\n",
      "http://example.org/ccobfo#TapWaterName\n",
      "http://example.org/emmo#HeatingWater1\n",
      "http://example.org/emmo#EggBoiler1\n",
      "http://example.org/emmo#EggBoiling1\n",
      "http://example.org/emmo#BoiledEgg1\n",
      "http://example.org/emmo#EggBoilingProcess1\n",
      "http://example.org/emmo#Quenching1\n",
      "http://example.org/emmo#Egg1\n"
     ]
    }
   ],
   "source": [
    "query = \"\"\"\n",
    "SELECT ?e\n",
    "WHERE { \n",
    "    #?e a <http://purl.obolibrary.org/obo/BFO_0000031> .   # bfo gen dep cont\n",
    "    ?e a <http://emmo.info/emmo#EMMO_b21a56ed_f969_4612_a6ec_cb7766f7f31d> .   # emmo sign\n",
    "   \n",
    "    #?e a cco:InformationContentEntity .\n",
    "}\n",
    "\"\"\"\n",
    "qres = g.query(query)\n",
    "for row in qres:\n",
    "    print(f\"{row.e}\")"
   ]
  }
 ],
 "metadata": {
  "colab": {
   "provenance": []
  },
  "kernelspec": {
   "display_name": "Python 3 (ipykernel)",
   "language": "python",
   "name": "python3"
  },
  "language_info": {
   "codemirror_mode": {
    "name": "ipython",
    "version": 3
   },
   "file_extension": ".py",
   "mimetype": "text/x-python",
   "name": "python",
   "nbconvert_exporter": "python",
   "pygments_lexer": "ipython3",
   "version": "3.10.8"
  }
 },
 "nbformat": 4,
 "nbformat_minor": 1
}
